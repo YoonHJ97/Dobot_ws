{
 "cells": [
  {
   "cell_type": "code",
   "execution_count": 27,
   "metadata": {},
   "outputs": [],
   "source": [
    "import threading\n",
    "from dobot_api import DobotApiDashboard, DobotApi, DobotApiMove, MyType, alarmAlarmJsonFile\n",
    "from time import sleep\n",
    "import numpy as np\n",
    "import re"
   ]
  },
  {
   "cell_type": "code",
   "execution_count": 28,
   "metadata": {},
   "outputs": [],
   "source": [
    "current_actual = None\n",
    "algorithm_queue = None\n",
    "enableStatus_robot = None\n",
    "robotErrorState = False\n",
    "globalLockValue = threading.Lock()"
   ]
  },
  {
   "cell_type": "code",
   "execution_count": 29,
   "metadata": {},
   "outputs": [],
   "source": [
    "def ConnectRobot():\n",
    "    try:\n",
    "        ip = \"192.168.1.6\"\n",
    "        dashboardPort = 29999\n",
    "        movePort = 30003\n",
    "        feedPort = 30004\n",
    "        print(\"Establishing connection...\")\n",
    "        dashboard = DobotApiDashboard(ip, dashboardPort)\n",
    "        move = DobotApiMove(ip, movePort)\n",
    "        feed = DobotApi(ip, feedPort)\n",
    "        print(\">.<Connection successful>!<\")\n",
    "        return dashboard, move, feed\n",
    "    except Exception as e:\n",
    "        print(\":(Connection failed:(\")\n",
    "        raise e"
   ]
  },
  {
   "cell_type": "code",
   "execution_count": 30,
   "metadata": {},
   "outputs": [
    {
     "name": "stdout",
     "output_type": "stream",
     "text": [
      "Establishing connection...\n",
      ">.<Connection successful>!<\n",
      "Starting enable...\n",
      "Send to 192.168.1.6:29999: EnableRobot()\n",
      "Receive from 192.168.1.6:29999: 0,{},EnableRobot();\n",
      "Enable complete :)\n"
     ]
    }
   ],
   "source": [
    "dashboard, move, feed = ConnectRobot()\n",
    "print(\"Starting enable...\")\n",
    "dashboard.EnableRobot()\n",
    "print(\"Enable complete :)\")"
   ]
  },
  {
   "cell_type": "code",
   "execution_count": 31,
   "metadata": {},
   "outputs": [],
   "source": [
    "def RunPoint(move: DobotApiMove, point_list: list):\n",
    "    move.MovL(point_list[0], point_list[1], point_list[2], point_list[3])"
   ]
  },
  {
   "cell_type": "code",
   "execution_count": 32,
   "metadata": {},
   "outputs": [
    {
     "name": "stdout",
     "output_type": "stream",
     "text": [
      "MovL(328.930000,-17.070000,86.670000,-4.770000)\n",
      "Send to 192.168.1.6:30003: MovL(328.930000,-17.070000,86.670000,-4.770000)\n",
      "Receive from 192.168.1.6:30003: 0,{},MovL(328.930000,-17.070000,86.670000,-4.770000);\n"
     ]
    }
   ],
   "source": [
    "point_a = [328.93, -17.07, 86.67, -4.77]\n",
    "\n",
    "RunPoint(move, point_a)\n"
   ]
  },
  {
   "cell_type": "code",
   "execution_count": 33,
   "metadata": {},
   "outputs": [],
   "source": [
    "def ActivateVacuumGripper(dashboard: DobotApiDashboard, activate: bool):\n",
    "\n",
    "    index = 1  # Assuming DO_01 corresponds to index 1\n",
    "    status = 1 if activate else 0\n",
    "    dashboard.DO(index, status)  # Activate or deactivate DO_01 based on status\n",
    "    print(f\"Vacuum Gripper {'activated' if activate else 'deactivated'}\")"
   ]
  },
  {
   "cell_type": "code",
   "execution_count": 34,
   "metadata": {},
   "outputs": [
    {
     "name": "stdout",
     "output_type": "stream",
     "text": [
      "Send to 192.168.1.6:29999: DO(1,1)\n",
      "Receive from 192.168.1.6:29999: 0,{},DO(1,1);\n",
      "Vacuum Gripper activated\n"
     ]
    }
   ],
   "source": [
    "ActivateVacuumGripper(dashboard, activate=True)"
   ]
  },
  {
   "cell_type": "code",
   "execution_count": 35,
   "metadata": {},
   "outputs": [
    {
     "name": "stdout",
     "output_type": "stream",
     "text": [
      "Send to 192.168.1.6:29999: DO(1,0)\n",
      "Receive from 192.168.1.6:29999: 0,{},DO(1,0);\n",
      "Vacuum Gripper deactivated\n"
     ]
    }
   ],
   "source": [
    "ActivateVacuumGripper(dashboard, activate=False)"
   ]
  },
  {
   "cell_type": "code",
   "execution_count": null,
   "metadata": {},
   "outputs": [],
   "source": [
    "def GetFeed(feed: DobotApi):\n",
    "    global current_actual\n",
    "    global algorithm_queue\n",
    "    global enableStatus_robot\n",
    "    global robotErrorState\n",
    "    hasRead = 0\n",
    "    while True:\n",
    "        data = bytes()\n",
    "        while hasRead < 1440:\n",
    "            temp = feed.socket_dobot.recv(1440 - hasRead)\n",
    "            if len(temp) > 0:\n",
    "                hasRead += len(temp)\n",
    "                data += temp\n",
    "        hasRead = 0\n",
    "        feedInfo = np.frombuffer(data, dtype=MyType)\n",
    "        if hex((feedInfo['test_value'][0])) == '0x123456789abcdef':\n",
    "            globalLockValue.acquire()\n",
    "            # Refresh Properties\n",
    "            current_actual = feedInfo[\"tool_vector_actual\"][0]\n",
    "            algorithm_queue = feedInfo['isRunQueuedCmd'][0]\n",
    "            enableStatus_robot = feedInfo['EnableStatus'][0]\n",
    "            robotErrorState = feedInfo['ErrorStatus'][0]\n",
    "            globalLockValue.release()\n",
    "        sleep(0.001)"
   ]
  },
  {
   "cell_type": "code",
   "execution_count": 37,
   "metadata": {},
   "outputs": [],
   "source": [
    "def ClearRobotError(dashboard: DobotApiDashboard):\n",
    "    global robotErrorState\n",
    "    dataController, dataServo = alarmAlarmJsonFile()    # Read controller and servo alarm codes\n",
    "    while True:\n",
    "      globalLockValue.acquire()\n",
    "      if robotErrorState:\n",
    "                numbers = re.findall(r'-?\\d+', dashboard.GetErrorID())\n",
    "                numbers = [int(num) for num in numbers]\n",
    "                if (numbers[0] == 0):\n",
    "                  if (len(numbers) > 1):\n",
    "                    for i in numbers[1:]:\n",
    "                      alarmState = False\n",
    "                      if i == -2:\n",
    "                          print(\"Robot Alarm: Collision detected\", i)\n",
    "                          alarmState = True\n",
    "                      if alarmState:\n",
    "                          continue                \n",
    "                      for item in dataController:\n",
    "                        if i == item[\"id\"]:\n",
    "                            print(\"Robot Alarm: Controller error ID\", i, item[\"zh_CN\"][\"description\"])\n",
    "                            alarmState = True\n",
    "                            break \n",
    "                      if alarmState:\n",
    "                          continue\n",
    "                      for item in dataServo:\n",
    "                        if i == item[\"id\"]:\n",
    "                            print(\"Robot Alarm: Servo error ID\", i, item[\"zh_CN\"][\"description\"])\n",
    "                            break  \n",
    "                    choose = input(\"Enter 1 to clear errors and continue operation: \")     \n",
    "                    if int(choose) == 1:\n",
    "                        dashboard.ClearError()\n",
    "                        sleep(0.01)\n",
    "                        dashboard.Continue()\n",
    "\n",
    "      else:  \n",
    "         if int(enableStatus_robot[0]) == 1 and int(algorithm_queue[0]) == 0:\n",
    "            dashboard.Continue()\n",
    "      globalLockValue.release()\n",
    "      sleep(5)"
   ]
  },
  {
   "cell_type": "code",
   "execution_count": 42,
   "metadata": {},
   "outputs": [],
   "source": [
    "def WaitArrive(point_list):\n",
    "    while True:\n",
    "        is_arrive = True\n",
    "        globalLockValue.acquire()\n",
    "        if current_actual is not None:\n",
    "            for index in range(4):\n",
    "                if (abs(current_actual[index] - point_list[index]) > 1):\n",
    "                    is_arrive = False\n",
    "            if is_arrive:\n",
    "                globalLockValue.release()\n",
    "                return\n",
    "        globalLockValue.release()\n",
    "        sleep(0.001)"
   ]
  },
  {
   "cell_type": "code",
   "execution_count": null,
   "metadata": {},
   "outputs": [],
   "source": [
    "# Thread to continuously read feedback from the robot\n",
    "feed_thread = threading.Thread(target=GetFeed, args=(feed,))\n",
    "feed_thread.setDaemon(True)\n",
    "feed_thread.start()\n",
    "\n",
    "# Thread to monitor and clear robot errors\n",
    "feed_thread1 = threading.Thread(target=ClearRobotError, args=(dashboard,))\n",
    "feed_thread1.setDaemon(True)\n",
    "feed_thread1.start()"
   ]
  },
  {
   "cell_type": "code",
   "execution_count": 41,
   "metadata": {},
   "outputs": [
    {
     "name": "stdout",
     "output_type": "stream",
     "text": [
      "MovL(328.930000,-17.070000,6.670000,-4.770000)\n",
      "Send to 192.168.1.6:30003: MovL(328.930000,-17.070000,6.670000,-4.770000)\n",
      "Receive from 192.168.1.6:30003: 0,{},MovL(328.930000,-17.070000,6.670000,-4.770000);\n"
     ]
    }
   ],
   "source": [
    "point_a = [328.93, -17.07, 6.67, -4.77]\n",
    "\n",
    "RunPoint(move, point_a)\n",
    "WaitArrive(point_a)"
   ]
  },
  {
   "cell_type": "code",
   "execution_count": 55,
   "metadata": {},
   "outputs": [],
   "source": [
    "def GeneratePallet(cols, rows, layers, start_point, offset):\n",
    "    pallet = []\n",
    "    for layer in range(layers):  # Loop over layers (Z axis)\n",
    "        for row in range(rows):  # Loop over rows (Y axis)\n",
    "            for col in range(cols):  # Loop over columns (X axis)\n",
    "                # Calculate the coordinate for each position\n",
    "                target_point = [\n",
    "                    start_point[0] + col * offset[0],  # X offset (columns)\n",
    "                    start_point[1] + row * offset[1],  # Y offset (rows)\n",
    "                    start_point[2] + layer * offset[2],  # Z offset (layers)\n",
    "                    start_point[3]                    # R (rotation) stays the same\n",
    "                ]\n",
    "                pallet.append(target_point)\n",
    "    return pallet"
   ]
  },
  {
   "cell_type": "code",
   "execution_count": 57,
   "metadata": {},
   "outputs": [
    {
     "name": "stdout",
     "output_type": "stream",
     "text": [
      "Generated 3D Pallet:\n",
      "[270, -113.76, -140.59, 0]\n",
      "[305, -113.76, -140.59, 0]\n",
      "[270, -78.76, -140.59, 0]\n",
      "[305, -78.76, -140.59, 0]\n",
      "[270, -113.76, -90.59, 0]\n",
      "[305, -113.76, -90.59, 0]\n",
      "[270, -78.76, -90.59, 0]\n",
      "[305, -78.76, -90.59, 0]\n"
     ]
    }
   ],
   "source": [
    "cols = 2\n",
    "rows = 2\n",
    "layers = 2\n",
    "start_point = [270, -113.76, -140.59, 0]  # 시작점\n",
    "offset = [35, 35, 50]  # X, Y, Z 간격 설정\n",
    "\n",
    "pallet = GeneratePallet(cols, rows, layers, start_point, offset)\n",
    "\n",
    "# 출력된 팔레트 확인\n",
    "print(\"Generated 3D Pallet:\")\n",
    "for point in pallet:\n",
    "    print(point)"
   ]
  }
 ],
 "metadata": {
  "kernelspec": {
   "display_name": "Python 3",
   "language": "python",
   "name": "python3"
  },
  "language_info": {
   "codemirror_mode": {
    "name": "ipython",
    "version": 3
   },
   "file_extension": ".py",
   "mimetype": "text/x-python",
   "name": "python",
   "nbconvert_exporter": "python",
   "pygments_lexer": "ipython3",
   "version": "3.10.11"
  }
 },
 "nbformat": 4,
 "nbformat_minor": 2
}
